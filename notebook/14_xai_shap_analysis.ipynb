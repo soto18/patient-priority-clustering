{
 "cells": [
  {
   "cell_type": "code",
   "execution_count": 1,
   "metadata": {},
   "outputs": [],
   "source": [
    "import sys\n",
    "import pandas as pd\n",
    "sys.path.insert(0, \"../\")\n",
    "\n",
    "from src.xai.apply_shap import SHAPAnalyzer"
   ]
  },
  {
   "cell_type": "markdown",
   "metadata": {},
   "source": [
    "#### Load dataset"
   ]
  },
  {
   "cell_type": "code",
   "execution_count": 2,
   "metadata": {},
   "outputs": [],
   "source": [
    "df_data = pd.read_csv(\"../results/classification/10_classification_data.csv\")\n",
    "data_values = df_data.drop(columns=['label'])\n",
    "responses = df_data['label']"
   ]
  },
  {
   "cell_type": "markdown",
   "metadata": {},
   "source": [
    "#### SHAP analyzer by model"
   ]
  },
  {
   "cell_type": "code",
   "execution_count": null,
   "metadata": {},
   "outputs": [],
   "source": [
    "# Analizar con Decision Tree\n",
    "analyzer_dt = SHAPAnalyzer(\"decision_tree\", data_values, responses)\n",
    "analyzer_dt.analyze(save_dir=\"../results/xai/decision_tree/\")"
   ]
  },
  {
   "cell_type": "code",
   "execution_count": null,
   "metadata": {},
   "outputs": [],
   "source": [
    "# Analizar con Random Forest\n",
    "analyzer_rf = SHAPAnalyzer(\"random_forest\", data_values, responses)\n",
    "analyzer_rf.analyze(save_dir=\"../results/xai/random_forest/\")"
   ]
  },
  {
   "cell_type": "code",
   "execution_count": null,
   "metadata": {},
   "outputs": [],
   "source": [
    "# Analizar con Gradient Boosting\n",
    "analyzer_rf = SHAPAnalyzer(\"gradient_boosting\", data_values, responses)\n",
    "analyzer_rf.analyze(save_dir=\"../results/xai/gradient_boosting/\")"
   ]
  },
  {
   "cell_type": "code",
   "execution_count": null,
   "metadata": {},
   "outputs": [],
   "source": [
    "# Analizar con adaboost\n",
    "analyzer_rf = SHAPAnalyzer(\"adaboost\", data_values, responses)\n",
    "analyzer_rf.analyze(save_dir=\"../results/xai/adaboost/\")"
   ]
  },
  {
   "cell_type": "code",
   "execution_count": null,
   "metadata": {},
   "outputs": [],
   "source": [
    "# Analizar con extra_trees\n",
    "analyzer_rf = SHAPAnalyzer(\"extra_trees\", data_values, responses)\n",
    "analyzer_rf.analyze(save_dir=\"../results/xai/extra_trees/\")"
   ]
  },
  {
   "cell_type": "code",
   "execution_count": null,
   "metadata": {},
   "outputs": [],
   "source": [
    "# Analizar con KNN\n",
    "analyzer_rf = SHAPAnalyzer(\"knn\", data_values, responses)\n",
    "analyzer_rf.analyze(save_dir=\"../results/xai/knn/\")"
   ]
  },
  {
   "cell_type": "code",
   "execution_count": null,
   "metadata": {},
   "outputs": [],
   "source": [
    "# Analizar con SVC\n",
    "analyzer_rf = SHAPAnalyzer(\"svc\", data_values, responses)\n",
    "analyzer_rf.analyze(save_dir=\"../results/xai/svc/\")"
   ]
  }
 ],
 "metadata": {
  "kernelspec": {
   "display_name": "patient-priority",
   "language": "python",
   "name": "python3"
  },
  "language_info": {
   "codemirror_mode": {
    "name": "ipython",
    "version": 3
   },
   "file_extension": ".py",
   "mimetype": "text/x-python",
   "name": "python",
   "nbconvert_exporter": "python",
   "pygments_lexer": "ipython3",
   "version": "3.10.0"
  },
  "orig_nbformat": 4
 },
 "nbformat": 4,
 "nbformat_minor": 2
}
